{
 "cells": [
  {
   "cell_type": "markdown",
   "id": "5887e7f6-5964-41e4-861f-88983f75bc57",
   "metadata": {},
   "source": [
    "# Name - Arnav Kumar\n",
    "# Internship@ CodeAlpha\n",
    "# Task 2 - Stock Price Prediction Using LSTM"
   ]
  },
  {
   "cell_type": "markdown",
   "id": "988acf4d-2078-4324-b2d6-d2dba438c752",
   "metadata": {},
   "source": [
    "## -------------------------"
   ]
  },
  {
   "cell_type": "markdown",
   "id": "1585fc83-e04b-469f-b739-24f75a1b4e4f",
   "metadata": {},
   "source": [
    "## Importing Libraries"
   ]
  },
  {
   "cell_type": "code",
   "execution_count": 13,
   "id": "4f01e585-ae6a-47e2-99f8-bc4bfeac5e7a",
   "metadata": {},
   "outputs": [],
   "source": [
    "import pandas as pd\n",
    "import numpy as np\n",
    "import matplotlib.pyplot as plt\n",
    "from sklearn.preprocessing import MinMaxScaler\n",
    "from keras.models import Sequential\n",
    "from keras.layers import Dense, LSTM\n",
    "from datetime import datetime\n",
    "import yfinance as yf"
   ]
  },
  {
   "cell_type": "markdown",
   "id": "1cc80443-219d-48f8-a70c-845f7ca5d3f7",
   "metadata": {},
   "source": [
    "## Loading Dataset Directly From yfinance"
   ]
  },
  {
   "cell_type": "code",
   "execution_count": 67,
   "id": "d363df9a-dfbd-4f5e-87dd-1f2ac46c402a",
   "metadata": {},
   "outputs": [
    {
     "name": "stderr",
     "output_type": "stream",
     "text": [
      "[*********************100%%**********************]  1 of 1 completed\n"
     ]
    }
   ],
   "source": [
    "stock_symbol = 'AAPL'\n",
    "df = yf.download(stock_symbol, start='2015-01-01', end='2024-01-01')\n",
    "if df.empty:\n",
    "    raise ValueError(\"The DataFrame is empty. Please check your data source.\")"
   ]
  },
  {
   "cell_type": "code",
   "execution_count": 68,
   "id": "b5541eaf-678b-4506-ad16-a083014a36c9",
   "metadata": {},
   "outputs": [
    {
     "data": {
      "text/html": [
       "<div>\n",
       "<style scoped>\n",
       "    .dataframe tbody tr th:only-of-type {\n",
       "        vertical-align: middle;\n",
       "    }\n",
       "\n",
       "    .dataframe tbody tr th {\n",
       "        vertical-align: top;\n",
       "    }\n",
       "\n",
       "    .dataframe thead th {\n",
       "        text-align: right;\n",
       "    }\n",
       "</style>\n",
       "<table border=\"1\" class=\"dataframe\">\n",
       "  <thead>\n",
       "    <tr style=\"text-align: right;\">\n",
       "      <th></th>\n",
       "      <th>Open</th>\n",
       "      <th>High</th>\n",
       "      <th>Low</th>\n",
       "      <th>Close</th>\n",
       "      <th>Adj Close</th>\n",
       "      <th>Volume</th>\n",
       "    </tr>\n",
       "    <tr>\n",
       "      <th>Date</th>\n",
       "      <th></th>\n",
       "      <th></th>\n",
       "      <th></th>\n",
       "      <th></th>\n",
       "      <th></th>\n",
       "      <th></th>\n",
       "    </tr>\n",
       "  </thead>\n",
       "  <tbody>\n",
       "    <tr>\n",
       "      <th>2015-01-02</th>\n",
       "      <td>27.847500</td>\n",
       "      <td>27.860001</td>\n",
       "      <td>26.837500</td>\n",
       "      <td>27.332500</td>\n",
       "      <td>24.402168</td>\n",
       "      <td>212818400</td>\n",
       "    </tr>\n",
       "    <tr>\n",
       "      <th>2015-01-05</th>\n",
       "      <td>27.072500</td>\n",
       "      <td>27.162500</td>\n",
       "      <td>26.352501</td>\n",
       "      <td>26.562500</td>\n",
       "      <td>23.714725</td>\n",
       "      <td>257142000</td>\n",
       "    </tr>\n",
       "    <tr>\n",
       "      <th>2015-01-06</th>\n",
       "      <td>26.635000</td>\n",
       "      <td>26.857500</td>\n",
       "      <td>26.157499</td>\n",
       "      <td>26.565001</td>\n",
       "      <td>23.716957</td>\n",
       "      <td>263188400</td>\n",
       "    </tr>\n",
       "    <tr>\n",
       "      <th>2015-01-07</th>\n",
       "      <td>26.799999</td>\n",
       "      <td>27.049999</td>\n",
       "      <td>26.674999</td>\n",
       "      <td>26.937500</td>\n",
       "      <td>24.049522</td>\n",
       "      <td>160423600</td>\n",
       "    </tr>\n",
       "    <tr>\n",
       "      <th>2015-01-08</th>\n",
       "      <td>27.307501</td>\n",
       "      <td>28.037500</td>\n",
       "      <td>27.174999</td>\n",
       "      <td>27.972500</td>\n",
       "      <td>24.973558</td>\n",
       "      <td>237458000</td>\n",
       "    </tr>\n",
       "  </tbody>\n",
       "</table>\n",
       "</div>"
      ],
      "text/plain": [
       "                 Open       High        Low      Close  Adj Close     Volume\n",
       "Date                                                                        \n",
       "2015-01-02  27.847500  27.860001  26.837500  27.332500  24.402168  212818400\n",
       "2015-01-05  27.072500  27.162500  26.352501  26.562500  23.714725  257142000\n",
       "2015-01-06  26.635000  26.857500  26.157499  26.565001  23.716957  263188400\n",
       "2015-01-07  26.799999  27.049999  26.674999  26.937500  24.049522  160423600\n",
       "2015-01-08  27.307501  28.037500  27.174999  27.972500  24.973558  237458000"
      ]
     },
     "execution_count": 68,
     "metadata": {},
     "output_type": "execute_result"
    }
   ],
   "source": [
    "df.head()"
   ]
  },
  {
   "cell_type": "code",
   "execution_count": 69,
   "id": "0fcf7397-c6d2-41f2-846b-d6d13d53bf58",
   "metadata": {},
   "outputs": [
    {
     "name": "stdout",
     "output_type": "stream",
     "text": [
      "<class 'pandas.core.frame.DataFrame'>\n",
      "DatetimeIndex: 2264 entries, 2015-01-02 to 2023-12-29\n",
      "Data columns (total 6 columns):\n",
      " #   Column     Non-Null Count  Dtype  \n",
      "---  ------     --------------  -----  \n",
      " 0   Open       2264 non-null   float64\n",
      " 1   High       2264 non-null   float64\n",
      " 2   Low        2264 non-null   float64\n",
      " 3   Close      2264 non-null   float64\n",
      " 4   Adj Close  2264 non-null   float64\n",
      " 5   Volume     2264 non-null   int64  \n",
      "dtypes: float64(5), int64(1)\n",
      "memory usage: 123.8 KB\n"
     ]
    }
   ],
   "source": [
    "df.info()"
   ]
  },
  {
   "cell_type": "code",
   "execution_count": 70,
   "id": "a4565b68-d1e1-4455-82b0-c2e731d2b492",
   "metadata": {},
   "outputs": [
    {
     "data": {
      "text/html": [
       "<div>\n",
       "<style scoped>\n",
       "    .dataframe tbody tr th:only-of-type {\n",
       "        vertical-align: middle;\n",
       "    }\n",
       "\n",
       "    .dataframe tbody tr th {\n",
       "        vertical-align: top;\n",
       "    }\n",
       "\n",
       "    .dataframe thead th {\n",
       "        text-align: right;\n",
       "    }\n",
       "</style>\n",
       "<table border=\"1\" class=\"dataframe\">\n",
       "  <thead>\n",
       "    <tr style=\"text-align: right;\">\n",
       "      <th></th>\n",
       "      <th>Open</th>\n",
       "      <th>High</th>\n",
       "      <th>Low</th>\n",
       "      <th>Close</th>\n",
       "      <th>Adj Close</th>\n",
       "      <th>Volume</th>\n",
       "    </tr>\n",
       "  </thead>\n",
       "  <tbody>\n",
       "    <tr>\n",
       "      <th>count</th>\n",
       "      <td>2264.000000</td>\n",
       "      <td>2264.000000</td>\n",
       "      <td>2264.000000</td>\n",
       "      <td>2264.000000</td>\n",
       "      <td>2264.000000</td>\n",
       "      <td>2.264000e+03</td>\n",
       "    </tr>\n",
       "    <tr>\n",
       "      <th>mean</th>\n",
       "      <td>83.956509</td>\n",
       "      <td>84.876609</td>\n",
       "      <td>83.092088</td>\n",
       "      <td>84.026440</td>\n",
       "      <td>81.947537</td>\n",
       "      <td>1.237607e+08</td>\n",
       "    </tr>\n",
       "    <tr>\n",
       "      <th>std</th>\n",
       "      <td>55.979856</td>\n",
       "      <td>56.611354</td>\n",
       "      <td>55.396020</td>\n",
       "      <td>56.034699</td>\n",
       "      <td>56.371166</td>\n",
       "      <td>6.818458e+07</td>\n",
       "    </tr>\n",
       "    <tr>\n",
       "      <th>min</th>\n",
       "      <td>22.500000</td>\n",
       "      <td>22.917500</td>\n",
       "      <td>22.367500</td>\n",
       "      <td>22.584999</td>\n",
       "      <td>20.744026</td>\n",
       "      <td>2.404830e+07</td>\n",
       "    </tr>\n",
       "    <tr>\n",
       "      <th>25%</th>\n",
       "      <td>35.452501</td>\n",
       "      <td>35.651249</td>\n",
       "      <td>35.243749</td>\n",
       "      <td>35.439376</td>\n",
       "      <td>33.037567</td>\n",
       "      <td>7.831732e+07</td>\n",
       "    </tr>\n",
       "    <tr>\n",
       "      <th>50%</th>\n",
       "      <td>54.039999</td>\n",
       "      <td>54.740000</td>\n",
       "      <td>53.270000</td>\n",
       "      <td>53.868752</td>\n",
       "      <td>51.568733</td>\n",
       "      <td>1.056556e+08</td>\n",
       "    </tr>\n",
       "    <tr>\n",
       "      <th>75%</th>\n",
       "      <td>141.444996</td>\n",
       "      <td>143.274998</td>\n",
       "      <td>139.239998</td>\n",
       "      <td>141.710003</td>\n",
       "      <td>139.961834</td>\n",
       "      <td>1.486811e+08</td>\n",
       "    </tr>\n",
       "    <tr>\n",
       "      <th>max</th>\n",
       "      <td>198.020004</td>\n",
       "      <td>199.619995</td>\n",
       "      <td>197.000000</td>\n",
       "      <td>198.110001</td>\n",
       "      <td>197.589523</td>\n",
       "      <td>6.488252e+08</td>\n",
       "    </tr>\n",
       "  </tbody>\n",
       "</table>\n",
       "</div>"
      ],
      "text/plain": [
       "              Open         High          Low        Close    Adj Close  \\\n",
       "count  2264.000000  2264.000000  2264.000000  2264.000000  2264.000000   \n",
       "mean     83.956509    84.876609    83.092088    84.026440    81.947537   \n",
       "std      55.979856    56.611354    55.396020    56.034699    56.371166   \n",
       "min      22.500000    22.917500    22.367500    22.584999    20.744026   \n",
       "25%      35.452501    35.651249    35.243749    35.439376    33.037567   \n",
       "50%      54.039999    54.740000    53.270000    53.868752    51.568733   \n",
       "75%     141.444996   143.274998   139.239998   141.710003   139.961834   \n",
       "max     198.020004   199.619995   197.000000   198.110001   197.589523   \n",
       "\n",
       "             Volume  \n",
       "count  2.264000e+03  \n",
       "mean   1.237607e+08  \n",
       "std    6.818458e+07  \n",
       "min    2.404830e+07  \n",
       "25%    7.831732e+07  \n",
       "50%    1.056556e+08  \n",
       "75%    1.486811e+08  \n",
       "max    6.488252e+08  "
      ]
     },
     "execution_count": 70,
     "metadata": {},
     "output_type": "execute_result"
    }
   ],
   "source": [
    "df.describe()"
   ]
  },
  {
   "cell_type": "code",
   "execution_count": 71,
   "id": "7ff8c224-d98c-4f9d-a740-8f8700a6b37b",
   "metadata": {},
   "outputs": [],
   "source": [
    "df = df[['Close']].dropna()\n",
    "scaler = MinMaxScaler(feature_range=(0, 1))\n",
    "scaled_data = scaler.fit_transform(df)"
   ]
  },
  {
   "cell_type": "markdown",
   "id": "e2b93fdc-ee9c-4203-8c54-683cc2787ddd",
   "metadata": {},
   "source": [
    "### the training data set"
   ]
  },
  {
   "cell_type": "code",
   "execution_count": 72,
   "id": "2b3da214-4737-4d1f-b578-5cbc6fdb0a3d",
   "metadata": {},
   "outputs": [],
   "source": [
    "train_size = int(len(scaled_data) * 0.8)\n",
    "train_data = scaled_data[:train_size]\n",
    "test_data = scaled_data[train_size:]"
   ]
  },
  {
   "cell_type": "code",
   "execution_count": 73,
   "id": "f68dea63-fbfc-4a1a-83d4-d46b9a4e5423",
   "metadata": {},
   "outputs": [],
   "source": [
    "def create_dataset(data, time_step=60):\n",
    "    X, y = [], []\n",
    "    for i in range(len(data) - time_step):\n",
    "        X.append(data[i:(i + time_step), 0])\n",
    "        y.append(data[i + time_step, 0])\n",
    "    return np.array(X), np.array(y)\n",
    "time_step = 60\n",
    "X_train, y_train = create_dataset(train_data, time_step)\n",
    "X_test, y_test = create_dataset(test_data, time_step)"
   ]
  },
  {
   "cell_type": "markdown",
   "id": "51ba3b20-bdbe-455b-993f-2227f460fb2d",
   "metadata": {},
   "source": [
    "###  Reshaping input to be [samples, time steps, features] for LSTM"
   ]
  },
  {
   "cell_type": "code",
   "execution_count": 74,
   "id": "2a3bc9b1-04ea-4f91-abc1-74e841c10ff3",
   "metadata": {},
   "outputs": [],
   "source": [
    "X_train = X_train.reshape(X_train.shape[0], X_train.shape[1], 1)\n",
    "X_test = X_test.reshape(X_test.shape[0], X_test.shape[1], 1)"
   ]
  },
  {
   "cell_type": "markdown",
   "id": "7598a573-0852-4cf0-95a7-86845caddea0",
   "metadata": {},
   "source": [
    "# LSTM MODEL"
   ]
  },
  {
   "cell_type": "code",
   "execution_count": 75,
   "id": "308633a6-6dec-49ff-aec8-b05dbc281afc",
   "metadata": {},
   "outputs": [
    {
     "name": "stderr",
     "output_type": "stream",
     "text": [
      "C:\\Users\\Vaidurya\\anaconda3\\Lib\\site-packages\\keras\\src\\layers\\rnn\\rnn.py:204: UserWarning: Do not pass an `input_shape`/`input_dim` argument to a layer. When using Sequential models, prefer using an `Input(shape)` object as the first layer in the model instead.\n",
      "  super().__init__(**kwargs)\n"
     ]
    }
   ],
   "source": [
    "model = Sequential()\n",
    "model.add(LSTM(units=50, return_sequences=True, input_shape=(time_step, 1)))\n",
    "model.add(LSTM(units=50, return_sequences=False))\n",
    "model.add(Dense(units=25))\n",
    "model.add(Dense(units=1))\n",
    "model.compile(optimizer='adam', loss='mean_squared_error')"
   ]
  },
  {
   "cell_type": "code",
   "execution_count": 76,
   "id": "8467d51d-0397-4282-b6ca-80b8322870a8",
   "metadata": {},
   "outputs": [
    {
     "name": "stdout",
     "output_type": "stream",
     "text": [
      "Epoch 1/10\n",
      "\u001b[1m55/55\u001b[0m \u001b[32m━━━━━━━━━━━━━━━━━━━━\u001b[0m\u001b[37m\u001b[0m \u001b[1m15s\u001b[0m 108ms/step - loss: 0.0241\n",
      "Epoch 2/10\n",
      "\u001b[1m55/55\u001b[0m \u001b[32m━━━━━━━━━━━━━━━━━━━━\u001b[0m\u001b[37m\u001b[0m \u001b[1m4s\u001b[0m 62ms/step - loss: 3.4434e-04\n",
      "Epoch 3/10\n",
      "\u001b[1m55/55\u001b[0m \u001b[32m━━━━━━━━━━━━━━━━━━━━\u001b[0m\u001b[37m\u001b[0m \u001b[1m5s\u001b[0m 92ms/step - loss: 3.2444e-04\n",
      "Epoch 4/10\n",
      "\u001b[1m55/55\u001b[0m \u001b[32m━━━━━━━━━━━━━━━━━━━━\u001b[0m\u001b[37m\u001b[0m \u001b[1m4s\u001b[0m 75ms/step - loss: 3.5623e-04\n",
      "Epoch 5/10\n",
      "\u001b[1m55/55\u001b[0m \u001b[32m━━━━━━━━━━━━━━━━━━━━\u001b[0m\u001b[37m\u001b[0m \u001b[1m5s\u001b[0m 76ms/step - loss: 3.0789e-04\n",
      "Epoch 6/10\n",
      "\u001b[1m55/55\u001b[0m \u001b[32m━━━━━━━━━━━━━━━━━━━━\u001b[0m\u001b[37m\u001b[0m \u001b[1m4s\u001b[0m 68ms/step - loss: 3.1014e-04\n",
      "Epoch 7/10\n",
      "\u001b[1m55/55\u001b[0m \u001b[32m━━━━━━━━━━━━━━━━━━━━\u001b[0m\u001b[37m\u001b[0m \u001b[1m5s\u001b[0m 77ms/step - loss: 3.0888e-04\n",
      "Epoch 8/10\n",
      "\u001b[1m55/55\u001b[0m \u001b[32m━━━━━━━━━━━━━━━━━━━━\u001b[0m\u001b[37m\u001b[0m \u001b[1m5s\u001b[0m 88ms/step - loss: 2.4470e-04\n",
      "Epoch 9/10\n",
      "\u001b[1m55/55\u001b[0m \u001b[32m━━━━━━━━━━━━━━━━━━━━\u001b[0m\u001b[37m\u001b[0m \u001b[1m4s\u001b[0m 64ms/step - loss: 2.7109e-04\n",
      "Epoch 10/10\n",
      "\u001b[1m55/55\u001b[0m \u001b[32m━━━━━━━━━━━━━━━━━━━━\u001b[0m\u001b[37m\u001b[0m \u001b[1m5s\u001b[0m 95ms/step - loss: 2.4229e-04\n"
     ]
    },
    {
     "data": {
      "text/plain": [
       "<keras.src.callbacks.history.History at 0x14eb49359a0>"
      ]
     },
     "execution_count": 76,
     "metadata": {},
     "output_type": "execute_result"
    }
   ],
   "source": [
    "#Training the model\n",
    "model.fit(X_train, y_train, batch_size=32, epochs=10)"
   ]
  },
  {
   "cell_type": "code",
   "execution_count": 77,
   "id": "ce8599ee-70ee-4476-bd8c-b746758c00fa",
   "metadata": {},
   "outputs": [
    {
     "name": "stdout",
     "output_type": "stream",
     "text": [
      "\u001b[1m55/55\u001b[0m \u001b[32m━━━━━━━━━━━━━━━━━━━━\u001b[0m\u001b[37m\u001b[0m \u001b[1m2s\u001b[0m 28ms/step\n",
      "\u001b[1m13/13\u001b[0m \u001b[32m━━━━━━━━━━━━━━━━━━━━\u001b[0m\u001b[37m\u001b[0m \u001b[1m1s\u001b[0m 28ms/step\n"
     ]
    }
   ],
   "source": [
    "# Predicting and Transforming back to original scale\n",
    "train_predict = model.predict(X_train)\n",
    "test_predict = model.predict(X_test)\n",
    "train_predict = scaler.inverse_transform(train_predict)\n",
    "test_predict = scaler.inverse_transform(test_predict)"
   ]
  },
  {
   "cell_type": "markdown",
   "id": "0e4f6afb-5ee5-4616-861b-121a5ab84ba2",
   "metadata": {},
   "source": [
    "## Prepare to Visualise"
   ]
  },
  {
   "cell_type": "code",
   "execution_count": 78,
   "id": "e9b35505-0445-4503-bcf5-72ca02c4f6ac",
   "metadata": {},
   "outputs": [],
   "source": [
    "train_predict_plot = np.empty_like(scaled_data)\n",
    "train_predict_plot[:, :] = np.nan\n",
    "train_predict_plot[time_step:len(train_predict) + time_step, :] = train_predict\n",
    "test_predict_plot = np.empty_like(scaled_data)\n",
    "test_predict_plot[:, :] = np.nan\n",
    "test_predict_plot[len(train_predict) + (time_step * 2):len(scaled_data), :] = test_predict\n",
    "# Ensure arrays are not empty\n",
    "if np.all(np.isnan(train_predict_plot)) or np.all(np.isnan(test_predict_plot)):\n",
    "    raise ValueError(\"Prediction arrays contain only NaNs. Check your predictions.\")"
   ]
  },
  {
   "cell_type": "markdown",
   "id": "ccbe4ed7-1e6f-4abc-acde-2285a960a1e9",
   "metadata": {},
   "source": [
    "## Visualising The Results"
   ]
  },
  {
   "cell_type": "code",
   "execution_count": 79,
   "id": "39105b16-4b69-4384-a7ae-dd098cb14e44",
   "metadata": {},
   "outputs": [
    {
     "data": {
      "text/plain": [
       "<Figure size 1400x600 with 0 Axes>"
      ]
     },
     "execution_count": 79,
     "metadata": {},
     "output_type": "execute_result"
    },
    {
     "data": {
      "text/plain": [
       "<Figure size 1400x600 with 0 Axes>"
      ]
     },
     "metadata": {},
     "output_type": "display_data"
    }
   ],
   "source": [
    "plt.figure(figsize=(14, 6))"
   ]
  },
  {
   "cell_type": "code",
   "execution_count": 99,
   "id": "60d06d80-a3da-4c85-babc-c95d1749c3a9",
   "metadata": {},
   "outputs": [
    {
     "data": {
      "image/png": "[encoded data removed]",
      "text/plain": [
       "<Figure size 640x480 with 1 Axes>"
      ]
     },
     "metadata": {},
     "output_type": "display_data"
    }
   ],
   "source": [
    "plt.plot(df.index, df['Close'], label='Actual Stock Price', color='red')\n",
    "plt.plot(df.index, train_predict_plot, label='Training Prediction', color='yellow')\n",
    "plt.plot(df.index, test_predict_plot, label='Testing Prediction', color='black')\n",
    "plt.title(f'{stock_symbol} Stock Price Prediction')\n",
    "plt.xlabel('Date')\n",
    "plt.ylabel('Stock Price')\n",
    "plt.legend()\n",
    "plt.show()"
   ]
  },
  {
   "cell_type": "code",
   "execution_count": null,
   "id": "310cc3f1-3a25-42b0-b433-b902ad3ec587",
   "metadata": {},
   "outputs": [],
   "source": []
  }
 ],
 "metadata": {
  "kernelspec": {
   "display_name": "Python 3 (ipykernel)",
   "language": "python",
   "name": "python3"
  },
  "language_info": {
   "codemirror_mode": {
    "name": "ipython",
    "version": 3
   },
   "file_extension": ".py",
   "mimetype": "text/x-python",
   "name": "python",
   "nbconvert_exporter": "python",
   "pygments_lexer": "ipython3",
   "version": "3.12.4"
  }
 },
 "nbformat": 4,
 "nbformat_minor": 5
}
